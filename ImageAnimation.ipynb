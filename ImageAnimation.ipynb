{
  "nbformat": 4,
  "nbformat_minor": 0,
  "metadata": {
    "colab": {
      "provenance": [],
      "authorship_tag": "ABX9TyPvOaXmYHaqSl4XSw+31dlO",
      "include_colab_link": true
    },
    "kernelspec": {
      "name": "python3",
      "display_name": "Python 3"
    },
    "language_info": {
      "name": "python"
    }
  },
  "cells": [
    {
      "cell_type": "markdown",
      "metadata": {
        "id": "view-in-github",
        "colab_type": "text"
      },
      "source": [
        "<a href=\"https://colab.research.google.com/github/shahtvisha/ImageProcessing/blob/main/ImageAnimation.ipynb\" target=\"_parent\"><img src=\"https://colab.research.google.com/assets/colab-badge.svg\" alt=\"Open In Colab\"/></a>"
      ]
    },
    {
      "cell_type": "code",
      "execution_count": 1,
      "metadata": {
        "colab": {
          "base_uri": "https://localhost:8080/"
        },
        "id": "tGWAxfWzvrqm",
        "outputId": "499ce22a-ec50-4aed-f466-d2b0941327b9"
      },
      "outputs": [
        {
          "output_type": "stream",
          "name": "stdout",
          "text": [
            "Video saved as cartoon_animation.mp4\n"
          ]
        }
      ],
      "source": [
        "import cv2\n",
        "import numpy as np\n",
        "\n",
        "def cartoonize_image(image):\n",
        "    gray = cv2.cvtColor(image, cv2.COLOR_BGR2GRAY)\n",
        "\n",
        "    cartoon = cv2.bilateralFilter(gray, 9, 300, 300)\n",
        "\n",
        "    edges = cv2.adaptiveThreshold(cartoon, 255, cv2.ADAPTIVE_THRESH_MEAN_C, cv2.THRESH_BINARY, 9, 9)\n",
        "\n",
        "    edges = cv2.cvtColor(edges, cv2.COLOR_GRAY2BGR)\n",
        "\n",
        "    cartoonized = cv2.bitwise_and(image, edges)\n",
        "\n",
        "    return cartoonized\n",
        "\n",
        "image = cv2.imread('/content/car1.png')\n",
        "\n",
        "num_frames = 30  # Number of frames for the animation\n",
        "frames = []\n",
        "for i in range(num_frames):\n",
        "    alpha = i / (num_frames - 1)  # Interpolation factor (ranges from 0 to 1)\n",
        "    cartoonized_image = cartoonize_image(image)\n",
        "    blended_image = cv2.addWeighted(image, 1 - alpha, cartoonized_image, alpha, 0)\n",
        "    frames.append(blended_image)\n",
        "\n",
        "# Creates a video from the frames\n",
        "output_video = 'cartoon_animation.mp4'\n",
        "height, width, _ = frames[0].shape\n",
        "fourcc = cv2.VideoWriter_fourcc(*'mp4v')",
        "video_writer = cv2.VideoWriter(output_video, fourcc, 30, (width, height))\n",
        "\n",
        "for frame in frames:\n",
        "    video_writer.write(frame)\n",
        "\n",
        "video_writer.release()\n",
        "\n",
        "print(f\"Video saved as {output_video}\")\n"
      ]
    }
  ]
}
